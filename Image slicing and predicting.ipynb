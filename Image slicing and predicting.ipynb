{
 "cells": [
  {
   "cell_type": "code",
   "execution_count": 1,
   "metadata": {},
   "outputs": [
    {
     "name": "stdout",
     "output_type": "stream",
     "text": [
      "WARNING:tensorflow:From c:\\Users\\OGgol\\AppData\\Local\\Programs\\Python\\Python311\\Lib\\site-packages\\keras\\src\\losses.py:2976: The name tf.losses.sparse_softmax_cross_entropy is deprecated. Please use tf.compat.v1.losses.sparse_softmax_cross_entropy instead.\n",
      "\n"
     ]
    }
   ],
   "source": [
    "import torch \n",
    "from PIL import Image \n",
    "import torchvision.transforms as transforms \n",
    "from matplotlib import pyplot as plt\n",
    "import tensorflow as tf\n",
    "import numpy as np"
   ]
  },
  {
   "cell_type": "code",
   "execution_count": 2,
   "metadata": {},
   "outputs": [
    {
     "name": "stdout",
     "output_type": "stream",
     "text": [
      "(1852, 3180, 3) <dtype: 'uint8'>\n",
      "(1852, 3180, 3)\n",
      "(1852, 3180, 3)\n",
      "(32, 54, 3)\n"
     ]
    },
    {
     "data": {
      "text/plain": [
       "<matplotlib.image.AxesImage at 0x1afd4308510>"
      ]
     },
     "execution_count": 2,
     "metadata": {},
     "output_type": "execute_result"
    },
    {
     "data": {
      "image/png": "[encoded data removed]",
      "text/plain": [
       "<Figure size 640x480 with 1 Axes>"
      ]
     },
     "metadata": {},
     "output_type": "display_data"
    }
   ],
   "source": [
    "image = tf.io.read_file('sample.jpg')\n",
    "img_tensor = tf.image.decode_png(image)\n",
    "print(img_tensor.shape, img_tensor.dtype)\n",
    "print(img_tensor.shape)\n",
    "plt.imshow(img_tensor.numpy(), interpolation='nearest')\n",
    "print(img_tensor.shape)\n",
    "ar_dfiner = img_tensor.shape[0]/32\n",
    "img_tensor = tf.image.resize(img_tensor, size = [32, int(img_tensor.shape[1]/ar_dfiner)], method= 'lanczos5')\n",
    "img_tensor = tf.cast(img_tensor, tf.uint8)\n",
    "print(img_tensor.shape)\n",
    "plt.imshow(img_tensor.numpy(), interpolation='nearest')"
   ]
  },
  {
   "cell_type": "code",
   "execution_count": 3,
   "metadata": {},
   "outputs": [
    {
     "data": {
      "text/plain": [
       "<tf.Tensor: shape=(3,), dtype=uint8, numpy=array([54, 53, 48], dtype=uint8)>"
      ]
     },
     "execution_count": 3,
     "metadata": {},
     "output_type": "execute_result"
    }
   ],
   "source": [
    "img_tensor[11][15]\n",
    "# This section of the tensor represents the first vertical column of  pixels, with their rbg values listed in 3 sections"
   ]
  },
  {
   "cell_type": "code",
   "execution_count": 4,
   "metadata": {},
   "outputs": [],
   "source": [
    "from operator import add\n",
    "def rbgAvg(tensor):\n",
    "    array = tensor.numpy()\n",
    "    sum = [0,0,0]\n",
    "    for x in array:\n",
    "        for y in x:\n",
    "            sum = list(map(add, y, sum))\n",
    "\n",
    "    return [int(x/(array.size/3)) for x in sum]"
   ]
  },
  {
   "cell_type": "code",
   "execution_count": 5,
   "metadata": {},
   "outputs": [],
   "source": [
    "avg_rgb = rbgAvg(img_tensor)"
   ]
  },
  {
   "cell_type": "markdown",
   "metadata": {},
   "source": [
    "Average RGB values in the image"
   ]
  },
  {
   "cell_type": "code",
   "execution_count": 6,
   "metadata": {},
   "outputs": [],
   "source": [
    "from operator import is_\n",
    "def breadth_pixel_search(x_start,y_start,tensor,pixel_list,avgrgb):\n",
    "    if((x_start >= tensor.shape[1]-1) or (y_start >= tensor.shape[0]-1)):\n",
    "        return\n",
    "    current_pixel = [y_start,x_start+1,np.array(tensor[y_start][x_start+1])]\n",
    "    pixel_exists = False\n",
    "    if np.sum(current_pixel[2]) < sum(avgrgb):\n",
    "        for x in pixel_list:\n",
    "            if x[0] == current_pixel[0 ] and x[1] == current_pixel[1]:\n",
    "                pixel_exists = True\n",
    "                break\n",
    "        if pixel_exists == False:\n",
    "            pixel_list.append((current_pixel))\n",
    "            breadth_pixel_search(x_start+1,y_start,tensor,pixel_list,avgrgb)\n",
    "    current_pixel = [y_start,x_start-1,np.array(tensor[y_start][x_start-1])]\n",
    "    pixel_exists = False\n",
    "    if np.sum(current_pixel[2]) < sum(avgrgb):\n",
    "        for x in pixel_list:\n",
    "            if x[0] == current_pixel[0 ] and x[1] == current_pixel[1]:\n",
    "                pixel_exists = True\n",
    "                break\n",
    "        if pixel_exists == False:\n",
    "            pixel_list.append((current_pixel))\n",
    "            breadth_pixel_search(x_start-1,y_start,tensor,pixel_list,avgrgb)\n",
    "    current_pixel = [y_start+1,x_start,np.array(tensor[y_start+1][x_start])]\n",
    "    pixel_exists = False\n",
    "    if np.sum(current_pixel[2]) < sum(avgrgb):\n",
    "        for x in pixel_list:\n",
    "            if x[0] == current_pixel[0 ] and x[1] == current_pixel[1]:\n",
    "                pixel_exists = True\n",
    "                break\n",
    "        if pixel_exists == False:\n",
    "            pixel_list.append((current_pixel))\n",
    "            breadth_pixel_search(x_start,y_start+1,tensor,pixel_list,avgrgb)\n",
    "    current_pixel = [y_start-1,x_start,np.array(tensor[y_start - 1][x_start])]\n",
    "    pixel_exists = False\n",
    "    if np.sum(current_pixel[2]) < sum(avgrgb):\n",
    "        for x in pixel_list:\n",
    "            if x[0] == current_pixel[0 ] and x[1] == current_pixel[1]:\n",
    "                pixel_exists = True\n",
    "                break\n",
    "        if pixel_exists == False:\n",
    "            pixel_list.append((current_pixel))\n",
    "            breadth_pixel_search(x_start,y_start - 1,tensor,pixel_list,avgrgb)\n",
    "    \n",
    "        "
   ]
  },
  {
   "cell_type": "code",
   "execution_count": 7,
   "metadata": {},
   "outputs": [
    {
     "data": {
      "text/plain": [
       "[[10, 14, array([54, 59, 53], dtype=uint8)],\n",
       " [10, 15, array([48, 48, 40], dtype=uint8)],\n",
       " [11, 15, array([54, 53, 48], dtype=uint8)],\n",
       " [11, 14, array([54, 58, 52], dtype=uint8)],\n",
       " [12, 14, array([55, 56, 51], dtype=uint8)],\n",
       " [12, 15, array([114, 115, 110], dtype=uint8)],\n",
       " [13, 14, array([56, 57, 52], dtype=uint8)],\n",
       " [14, 14, array([54, 59, 53], dtype=uint8)],\n",
       " [14, 13, array([67, 66, 55], dtype=uint8)],\n",
       " [15, 13, array([52, 57, 51], dtype=uint8)],\n",
       " [15, 14, array([56, 57, 52], dtype=uint8)],\n",
       " [16, 13, array([53, 58, 52], dtype=uint8)],\n",
       " [17, 13, array([46, 51, 45], dtype=uint8)],\n",
       " [17, 12, array([52, 57, 51], dtype=uint8)],\n",
       " [18, 12, array([55, 57, 52], dtype=uint8)],\n",
       " [18, 11, array([130, 130, 122], dtype=uint8)],\n",
       " [19, 11, array([53, 58, 52], dtype=uint8)],\n",
       " [20, 11, array([46, 51, 45], dtype=uint8)],\n",
       " [20, 10, array([50, 55, 49], dtype=uint8)],\n",
       " [21, 10, array([50, 54, 48], dtype=uint8)],\n",
       " [21, 9, array([56, 55, 50], dtype=uint8)],\n",
       " [22, 9, array([52, 58, 52], dtype=uint8)],\n",
       " [22, 8, array([64, 64, 56], dtype=uint8)],\n",
       " [23, 8, array([51, 54, 49], dtype=uint8)],\n",
       " [23, 9, array([53, 56, 50], dtype=uint8)],\n",
       " [23, 10, array([54, 55, 50], dtype=uint8)],\n",
       " [23, 11, array([56, 57, 52], dtype=uint8)],\n",
       " [23, 12, array([49, 54, 48], dtype=uint8)],\n",
       " [23, 13, array([49, 50, 45], dtype=uint8)],\n",
       " [24, 13, array([57, 58, 53], dtype=uint8)],\n",
       " [24, 14, array([53, 54, 49], dtype=uint8)],\n",
       " [24, 15, array([54, 55, 50], dtype=uint8)],\n",
       " [24, 16, array([51, 52, 47], dtype=uint8)],\n",
       " [24, 17, array([39, 40, 35], dtype=uint8)],\n",
       " [25, 17, array([60, 59, 54], dtype=uint8)],\n",
       " [25, 18, array([45, 50, 44], dtype=uint8)],\n",
       " [25, 16, array([58, 59, 53], dtype=uint8)],\n",
       " [24, 12, array([58, 59, 54], dtype=uint8)],\n",
       " [9, 14, array([54, 58, 57], dtype=uint8)],\n",
       " [8, 14, array([54, 58, 57], dtype=uint8)],\n",
       " [8, 13, array([53, 58, 52], dtype=uint8)],\n",
       " [7, 13, array([57, 62, 56], dtype=uint8)],\n",
       " [7, 12, array([126, 124, 119], dtype=uint8)],\n",
       " [6, 12, array([54, 59, 53], dtype=uint8)],\n",
       " [6, 11, array([51, 55, 54], dtype=uint8)],\n",
       " [6, 10, array([44, 49, 43], dtype=uint8)],\n",
       " [6, 9, array([50, 54, 53], dtype=uint8)],\n",
       " [6, 8, array([52, 56, 55], dtype=uint8)],\n",
       " [6, 7, array([47, 52, 45], dtype=uint8)],\n",
       " [7, 7, array([48, 49, 45], dtype=uint8)],\n",
       " [5, 9, array([126, 123, 114], dtype=uint8)],\n",
       " [5, 10, array([48, 52, 50], dtype=uint8)]]"
      ]
     },
     "execution_count": 7,
     "metadata": {},
     "output_type": "execute_result"
    }
   ],
   "source": [
    "pixel_list = []\n",
    "breadth_pixel_search(15,10,img_tensor,pixel_list,avg_rgb)\n",
    "pixel_list"
   ]
  },
  {
   "cell_type": "markdown",
   "metadata": {},
   "source": [
    "Will also need to be able to shift the x and y values of the pixels as to make them relational to each other on a 32 x 32 plot."
   ]
  },
  {
   "cell_type": "code",
   "execution_count": 8,
   "metadata": {},
   "outputs": [
    {
     "name": "stderr",
     "output_type": "stream",
     "text": [
      "Clipping input data to the valid range for imshow with RGB data ([0..1] for floats or [0..255] for integers).\n"
     ]
    },
    {
     "data": {
      "text/plain": [
       "<matplotlib.image.AxesImage at 0x1afd4367510>"
      ]
     },
     "execution_count": 8,
     "metadata": {},
     "output_type": "execute_result"
    },
    {
     "data": {
      "image/png": "[encoded data removed]",
      "text/plain": [
       "<Figure size 640x480 with 1 Axes>"
      ]
     },
     "metadata": {},
     "output_type": "display_data"
    }
   ],
   "source": [
    "map = np.zeros([32, 32, 3], dtype=int)\n",
    "map = np.full_like(map, 256)\n",
    "for x in pixel_list:\n",
    "    map[x[0]][x[1]] = x[2]\n",
    "plt.imshow(map, interpolation='nearest')"
   ]
  },
  {
   "cell_type": "code",
   "execution_count": 9,
   "metadata": {},
   "outputs": [],
   "source": [
    "def horiz_bar_search(img_tensor,rgb_avg):\n",
    "    digit_operator_list = []\n",
    "    x = 0\n",
    "    y  = int(img_tensor.shape[0]/2)\n",
    "    while x < img_tensor.shape[1] - 1:\n",
    "        if np.sum(np.array(img_tensor[y][x])) < sum(rgb_avg)*.8:\n",
    "            pixel_list = []\n",
    "            breadth_pixel_search(x,y,img_tensor,pixel_list,rgb_avg)\n",
    "            digit_operator_list.append(pixel_list)\n",
    "            max_x_value  = digit_operator_list[-1][0][1]\n",
    "            for j in digit_operator_list[-1][1:]:\n",
    "                    if j[1] > max_x_value:\n",
    "                        max_x_value = j[1]\n",
    "            x = max_x_value\n",
    "        x += 1\n",
    "    return digit_operator_list\n",
    "                \n"
   ]
  },
  {
   "cell_type": "code",
   "execution_count": 10,
   "metadata": {},
   "outputs": [
    {
     "data": {
      "text/plain": [
       "[[[17, 13, array([46, 51, 45], dtype=uint8)],\n",
       "  [17, 12, array([52, 57, 51], dtype=uint8)],\n",
       "  [18, 12, array([55, 57, 52], dtype=uint8)],\n",
       "  [18, 11, array([130, 130, 122], dtype=uint8)],\n",
       "  [19, 11, array([53, 58, 52], dtype=uint8)],\n",
       "  [20, 11, array([46, 51, 45], dtype=uint8)],\n",
       "  [20, 10, array([50, 55, 49], dtype=uint8)],\n",
       "  [21, 10, array([50, 54, 48], dtype=uint8)],\n",
       "  [21, 9, array([56, 55, 50], dtype=uint8)],\n",
       "  [22, 9, array([52, 58, 52], dtype=uint8)],\n",
       "  [22, 8, array([64, 64, 56], dtype=uint8)],\n",
       "  [23, 8, array([51, 54, 49], dtype=uint8)],\n",
       "  [23, 9, array([53, 56, 50], dtype=uint8)],\n",
       "  [23, 10, array([54, 55, 50], dtype=uint8)],\n",
       "  [23, 11, array([56, 57, 52], dtype=uint8)],\n",
       "  [23, 12, array([49, 54, 48], dtype=uint8)],\n",
       "  [23, 13, array([49, 50, 45], dtype=uint8)],\n",
       "  [24, 13, array([57, 58, 53], dtype=uint8)],\n",
       "  [24, 14, array([53, 54, 49], dtype=uint8)],\n",
       "  [24, 15, array([54, 55, 50], dtype=uint8)],\n",
       "  [24, 16, array([51, 52, 47], dtype=uint8)],\n",
       "  [24, 17, array([39, 40, 35], dtype=uint8)],\n",
       "  [25, 17, array([60, 59, 54], dtype=uint8)],\n",
       "  [25, 18, array([45, 50, 44], dtype=uint8)],\n",
       "  [25, 16, array([58, 59, 53], dtype=uint8)],\n",
       "  [24, 12, array([58, 59, 54], dtype=uint8)],\n",
       "  [16, 13, array([53, 58, 52], dtype=uint8)],\n",
       "  [15, 13, array([52, 57, 51], dtype=uint8)],\n",
       "  [15, 14, array([56, 57, 52], dtype=uint8)],\n",
       "  [14, 14, array([54, 59, 53], dtype=uint8)],\n",
       "  [14, 13, array([67, 66, 55], dtype=uint8)],\n",
       "  [13, 14, array([56, 57, 52], dtype=uint8)],\n",
       "  [12, 14, array([55, 56, 51], dtype=uint8)],\n",
       "  [12, 15, array([114, 115, 110], dtype=uint8)],\n",
       "  [11, 15, array([54, 53, 48], dtype=uint8)],\n",
       "  [11, 14, array([54, 58, 52], dtype=uint8)],\n",
       "  [10, 14, array([54, 59, 53], dtype=uint8)],\n",
       "  [10, 15, array([48, 48, 40], dtype=uint8)],\n",
       "  [9, 14, array([54, 58, 57], dtype=uint8)],\n",
       "  [8, 14, array([54, 58, 57], dtype=uint8)],\n",
       "  [8, 13, array([53, 58, 52], dtype=uint8)],\n",
       "  [7, 13, array([57, 62, 56], dtype=uint8)],\n",
       "  [7, 12, array([126, 124, 119], dtype=uint8)],\n",
       "  [6, 12, array([54, 59, 53], dtype=uint8)],\n",
       "  [6, 11, array([51, 55, 54], dtype=uint8)],\n",
       "  [6, 10, array([44, 49, 43], dtype=uint8)],\n",
       "  [6, 9, array([50, 54, 53], dtype=uint8)],\n",
       "  [6, 8, array([52, 56, 55], dtype=uint8)],\n",
       "  [6, 7, array([47, 52, 45], dtype=uint8)],\n",
       "  [7, 7, array([48, 49, 45], dtype=uint8)],\n",
       "  [5, 9, array([126, 123, 114], dtype=uint8)],\n",
       "  [5, 10, array([48, 52, 50], dtype=uint8)]],\n",
       " [[16, 23, array([46, 47, 42], dtype=uint8)],\n",
       "  [16, 24, array([49, 50, 45], dtype=uint8)],\n",
       "  [16, 25, array([50, 51, 46], dtype=uint8)],\n",
       "  [16, 26, array([50, 51, 46], dtype=uint8)],\n",
       "  [16, 27, array([48, 49, 44], dtype=uint8)],\n",
       "  [16, 28, array([62, 62, 54], dtype=uint8)],\n",
       "  [16, 29, array([46, 47, 42], dtype=uint8)],\n",
       "  [17, 27, array([61, 60, 55], dtype=uint8)],\n",
       "  [17, 26, array([68, 68, 60], dtype=uint8)],\n",
       "  [18, 26, array([127, 124, 117], dtype=uint8)],\n",
       "  [18, 27, array([34, 33, 29], dtype=uint8)],\n",
       "  [15, 27, array([24, 25, 20], dtype=uint8)],\n",
       "  [15, 26, array([48, 49, 44], dtype=uint8)],\n",
       "  [14, 26, array([45, 50, 44], dtype=uint8)],\n",
       "  [13, 26, array([39, 43, 42], dtype=uint8)],\n",
       "  [13, 25, array([40, 41, 35], dtype=uint8)],\n",
       "  [16, 22, array([44, 49, 43], dtype=uint8)]],\n",
       " [[17, 43, array([39, 40, 35], dtype=uint8)],\n",
       "  [17, 42, array([50, 51, 46], dtype=uint8)],\n",
       "  [18, 42, array([43, 44, 39], dtype=uint8)],\n",
       "  [18, 43, array([163, 164, 156], dtype=uint8)],\n",
       "  [19, 42, array([42, 43, 38], dtype=uint8)],\n",
       "  [19, 41, array([80, 77, 72], dtype=uint8)],\n",
       "  [20, 41, array([45, 46, 41], dtype=uint8)],\n",
       "  [21, 41, array([43, 42, 38], dtype=uint8)],\n",
       "  [21, 40, array([50, 46, 43], dtype=uint8)],\n",
       "  [22, 40, array([45, 44, 40], dtype=uint8)],\n",
       "  [22, 39, array([51, 52, 47], dtype=uint8)],\n",
       "  [22, 38, array([172, 169, 160], dtype=uint8)],\n",
       "  [23, 38, array([54, 52, 47], dtype=uint8)],\n",
       "  [23, 39, array([55, 54, 49], dtype=uint8)],\n",
       "  [23, 40, array([175, 172, 164], dtype=uint8)],\n",
       "  [24, 40, array([48, 47, 43], dtype=uint8)],\n",
       "  [24, 41, array([49, 48, 44], dtype=uint8)],\n",
       "  [24, 42, array([47, 46, 42], dtype=uint8)],\n",
       "  [24, 43, array([52, 51, 46], dtype=uint8)],\n",
       "  [24, 44, array([56, 53, 48], dtype=uint8)],\n",
       "  [24, 45, array([58, 55, 50], dtype=uint8)],\n",
       "  [24, 46, array([170, 166, 157], dtype=uint8)],\n",
       "  [24, 47, array([169, 165, 156], dtype=uint8)],\n",
       "  [24, 48, array([170, 166, 157], dtype=uint8)],\n",
       "  [24, 49, array([172, 168, 159], dtype=uint8)],\n",
       "  [24, 50, array([168, 164, 155], dtype=uint8)],\n",
       "  [24, 51, array([165, 161, 152], dtype=uint8)],\n",
       "  [24, 52, array([165, 161, 152], dtype=uint8)],\n",
       "  [24, 53, array([169, 165, 156], dtype=uint8)],\n",
       "  [25, 52, array([160, 156, 147], dtype=uint8)],\n",
       "  [25, 53, array([159, 155, 146], dtype=uint8)],\n",
       "  [25, 51, array([172, 168, 159], dtype=uint8)],\n",
       "  [25, 50, array([165, 161, 152], dtype=uint8)],\n",
       "  [25, 49, array([170, 166, 157], dtype=uint8)],\n",
       "  [25, 48, array([170, 166, 157], dtype=uint8)],\n",
       "  [25, 47, array([173, 169, 160], dtype=uint8)],\n",
       "  [26, 47, array([169, 165, 156], dtype=uint8)],\n",
       "  [26, 48, array([168, 164, 155], dtype=uint8)],\n",
       "  [26, 49, array([166, 162, 153], dtype=uint8)],\n",
       "  [26, 50, array([168, 164, 155], dtype=uint8)],\n",
       "  [26, 51, array([158, 154, 145], dtype=uint8)],\n",
       "  [26, 52, array([163, 159, 150], dtype=uint8)],\n",
       "  [26, 53, array([161, 157, 148], dtype=uint8)],\n",
       "  [27, 52, array([165, 161, 152], dtype=uint8)],\n",
       "  [27, 53, array([160, 156, 147], dtype=uint8)],\n",
       "  [27, 51, array([170, 166, 157], dtype=uint8)],\n",
       "  [27, 50, array([166, 162, 153], dtype=uint8)],\n",
       "  [27, 49, array([165, 161, 152], dtype=uint8)],\n",
       "  [27, 48, array([169, 165, 156], dtype=uint8)],\n",
       "  [27, 47, array([168, 164, 155], dtype=uint8)],\n",
       "  [27, 46, array([167, 163, 154], dtype=uint8)],\n",
       "  [27, 45, array([175, 171, 162], dtype=uint8)],\n",
       "  [27, 44, array([173, 169, 160], dtype=uint8)],\n",
       "  [27, 43, array([171, 167, 158], dtype=uint8)],\n",
       "  [27, 42, array([170, 167, 158], dtype=uint8)],\n",
       "  [27, 41, array([174, 170, 161], dtype=uint8)],\n",
       "  [27, 40, array([171, 167, 158], dtype=uint8)],\n",
       "  [27, 39, array([173, 170, 161], dtype=uint8)],\n",
       "  [28, 39, array([171, 168, 159], dtype=uint8)],\n",
       "  [28, 40, array([166, 163, 154], dtype=uint8)],\n",
       "  [28, 41, array([170, 166, 157], dtype=uint8)],\n",
       "  [28, 42, array([166, 163, 154], dtype=uint8)],\n",
       "  [28, 43, array([168, 165, 156], dtype=uint8)],\n",
       "  [28, 44, array([165, 162, 153], dtype=uint8)],\n",
       "  [28, 45, array([167, 164, 155], dtype=uint8)],\n",
       "  [28, 46, array([165, 162, 153], dtype=uint8)],\n",
       "  [28, 47, array([165, 161, 152], dtype=uint8)],\n",
       "  [28, 48, array([163, 159, 150], dtype=uint8)],\n",
       "  [28, 49, array([163, 159, 150], dtype=uint8)],\n",
       "  [28, 50, array([161, 157, 148], dtype=uint8)],\n",
       "  [28, 51, array([165, 161, 152], dtype=uint8)],\n",
       "  [28, 52, array([160, 157, 148], dtype=uint8)],\n",
       "  [28, 53, array([164, 161, 152], dtype=uint8)],\n",
       "  [29, 52, array([158, 155, 146], dtype=uint8)],\n",
       "  [29, 53, array([159, 156, 147], dtype=uint8)],\n",
       "  [29, 51, array([165, 161, 152], dtype=uint8)],\n",
       "  [29, 50, array([163, 159, 150], dtype=uint8)],\n",
       "  [29, 49, array([168, 164, 155], dtype=uint8)],\n",
       "  [29, 48, array([164, 160, 151], dtype=uint8)],\n",
       "  [29, 47, array([164, 160, 151], dtype=uint8)],\n",
       "  [29, 46, array([164, 160, 151], dtype=uint8)],\n",
       "  [29, 45, array([167, 164, 155], dtype=uint8)],\n",
       "  [29, 44, array([165, 162, 153], dtype=uint8)],\n",
       "  [29, 43, array([162, 159, 150], dtype=uint8)],\n",
       "  [29, 42, array([168, 165, 156], dtype=uint8)],\n",
       "  [29, 41, array([167, 164, 155], dtype=uint8)],\n",
       "  [29, 40, array([167, 164, 155], dtype=uint8)],\n",
       "  [29, 39, array([168, 165, 156], dtype=uint8)],\n",
       "  [29, 38, array([173, 170, 161], dtype=uint8)],\n",
       "  [29, 37, array([171, 168, 159], dtype=uint8)],\n",
       "  [29, 36, array([171, 168, 159], dtype=uint8)],\n",
       "  [29, 35, array([171, 168, 159], dtype=uint8)],\n",
       "  [29, 34, array([172, 169, 160], dtype=uint8)],\n",
       "  [29, 33, array([172, 169, 160], dtype=uint8)],\n",
       "  [29, 32, array([169, 166, 157], dtype=uint8)],\n",
       "  [29, 31, array([175, 172, 163], dtype=uint8)],\n",
       "  [30, 31, array([172, 169, 160], dtype=uint8)],\n",
       "  [30, 32, array([174, 171, 162], dtype=uint8)],\n",
       "  [30, 33, array([173, 170, 161], dtype=uint8)],\n",
       "  [30, 34, array([173, 170, 161], dtype=uint8)],\n",
       "  [30, 35, array([172, 169, 160], dtype=uint8)],\n",
       "  [30, 36, array([171, 168, 159], dtype=uint8)],\n",
       "  [30, 37, array([171, 168, 159], dtype=uint8)],\n",
       "  [30, 38, array([167, 164, 155], dtype=uint8)],\n",
       "  [30, 39, array([167, 164, 155], dtype=uint8)],\n",
       "  [30, 40, array([166, 163, 154], dtype=uint8)],\n",
       "  [30, 41, array([164, 161, 152], dtype=uint8)],\n",
       "  [30, 42, array([164, 161, 152], dtype=uint8)],\n",
       "  [30, 43, array([167, 164, 155], dtype=uint8)],\n",
       "  [30, 44, array([163, 160, 151], dtype=uint8)],\n",
       "  [30, 45, array([166, 163, 154], dtype=uint8)],\n",
       "  [30, 46, array([164, 160, 151], dtype=uint8)],\n",
       "  [30, 47, array([163, 160, 151], dtype=uint8)],\n",
       "  [30, 48, array([161, 158, 149], dtype=uint8)],\n",
       "  [30, 49, array([159, 155, 146], dtype=uint8)],\n",
       "  [30, 50, array([161, 158, 149], dtype=uint8)],\n",
       "  [30, 51, array([159, 156, 147], dtype=uint8)],\n",
       "  [30, 52, array([160, 157, 148], dtype=uint8)],\n",
       "  [30, 53, array([157, 154, 145], dtype=uint8)],\n",
       "  [31, 52, array([160, 157, 148], dtype=uint8)],\n",
       "  [31, 51, array([155, 152, 143], dtype=uint8)],\n",
       "  [31, 50, array([155, 152, 142], dtype=uint8)],\n",
       "  [31, 49, array([156, 153, 144], dtype=uint8)],\n",
       "  [31, 48, array([157, 154, 145], dtype=uint8)],\n",
       "  [31, 47, array([159, 156, 147], dtype=uint8)],\n",
       "  [31, 46, array([161, 158, 149], dtype=uint8)],\n",
       "  [31, 45, array([156, 153, 144], dtype=uint8)],\n",
       "  [31, 44, array([163, 160, 151], dtype=uint8)],\n",
       "  [31, 43, array([158, 155, 146], dtype=uint8)],\n",
       "  [31, 42, array([163, 160, 151], dtype=uint8)],\n",
       "  [31, 41, array([164, 161, 152], dtype=uint8)],\n",
       "  [31, 40, array([165, 162, 153], dtype=uint8)],\n",
       "  [31, 39, array([167, 164, 154], dtype=uint8)],\n",
       "  [31, 38, array([169, 166, 156], dtype=uint8)],\n",
       "  [31, 37, array([163, 160, 151], dtype=uint8)],\n",
       "  [31, 36, array([170, 167, 158], dtype=uint8)],\n",
       "  [31, 35, array([169, 166, 157], dtype=uint8)],\n",
       "  [31, 34, array([171, 168, 159], dtype=uint8)],\n",
       "  [31, 33, array([172, 169, 160], dtype=uint8)],\n",
       "  [31, 32, array([171, 168, 159], dtype=uint8)],\n",
       "  [31, 31, array([167, 164, 155], dtype=uint8)],\n",
       "  [28, 31, array([175, 172, 163], dtype=uint8)],\n",
       "  [28, 34, array([174, 171, 162], dtype=uint8)],\n",
       "  [28, 35, array([175, 172, 163], dtype=uint8)],\n",
       "  [28, 36, array([172, 169, 160], dtype=uint8)],\n",
       "  [28, 37, array([174, 171, 162], dtype=uint8)],\n",
       "  [28, 38, array([171, 168, 159], dtype=uint8)],\n",
       "  [27, 37, array([176, 173, 164], dtype=uint8)],\n",
       "  [27, 36, array([174, 171, 162], dtype=uint8)],\n",
       "  [27, 34, array([175, 172, 163], dtype=uint8)],\n",
       "  [26, 39, array([176, 172, 163], dtype=uint8)],\n",
       "  [26, 40, array([173, 169, 160], dtype=uint8)],\n",
       "  [26, 41, array([174, 170, 161], dtype=uint8)],\n",
       "  [26, 42, array([174, 170, 161], dtype=uint8)],\n",
       "  [26, 43, array([173, 169, 160], dtype=uint8)],\n",
       "  [26, 44, array([172, 168, 159], dtype=uint8)],\n",
       "  [26, 45, array([169, 165, 156], dtype=uint8)],\n",
       "  [26, 46, array([172, 168, 159], dtype=uint8)],\n",
       "  [25, 45, array([172, 168, 159], dtype=uint8)],\n",
       "  [25, 44, array([174, 170, 161], dtype=uint8)],\n",
       "  [25, 43, array([174, 170, 161], dtype=uint8)],\n",
       "  [25, 42, array([175, 172, 163], dtype=uint8)],\n",
       "  [25, 41, array([173, 169, 160], dtype=uint8)],\n",
       "  [25, 40, array([173, 169, 160], dtype=uint8)],\n",
       "  [25, 39, array([174, 171, 162], dtype=uint8)],\n",
       "  [24, 39, array([45, 44, 40], dtype=uint8)],\n",
       "  [24, 38, array([46, 45, 41], dtype=uint8)],\n",
       "  [24, 37, array([45, 46, 41], dtype=uint8)],\n",
       "  [24, 36, array([176, 173, 164], dtype=uint8)],\n",
       "  [25, 36, array([175, 172, 163], dtype=uint8)],\n",
       "  [25, 35, array([176, 173, 164], dtype=uint8)],\n",
       "  [25, 34, array([176, 173, 164], dtype=uint8)],\n",
       "  [23, 37, array([176, 173, 164], dtype=uint8)],\n",
       "  [23, 52, array([168, 164, 155], dtype=uint8)],\n",
       "  [23, 53, array([167, 163, 154], dtype=uint8)],\n",
       "  [23, 51, array([167, 163, 154], dtype=uint8)],\n",
       "  [23, 50, array([168, 164, 155], dtype=uint8)],\n",
       "  [23, 49, array([174, 170, 161], dtype=uint8)],\n",
       "  [23, 48, array([170, 166, 157], dtype=uint8)],\n",
       "  [23, 47, array([169, 165, 156], dtype=uint8)],\n",
       "  [23, 46, array([172, 168, 159], dtype=uint8)],\n",
       "  [23, 45, array([175, 171, 162], dtype=uint8)],\n",
       "  [23, 44, array([174, 170, 161], dtype=uint8)],\n",
       "  [23, 43, array([176, 172, 163], dtype=uint8)],\n",
       "  [22, 46, array([177, 173, 164], dtype=uint8)],\n",
       "  [22, 47, array([174, 170, 161], dtype=uint8)],\n",
       "  [22, 48, array([171, 167, 158], dtype=uint8)],\n",
       "  [22, 49, array([173, 169, 160], dtype=uint8)],\n",
       "  [22, 50, array([169, 165, 156], dtype=uint8)],\n",
       "  [22, 51, array([168, 164, 155], dtype=uint8)],\n",
       "  [22, 52, array([172, 169, 160], dtype=uint8)],\n",
       "  [22, 53, array([165, 162, 153], dtype=uint8)],\n",
       "  [21, 52, array([169, 165, 156], dtype=uint8)],\n",
       "  [21, 53, array([169, 166, 157], dtype=uint8)],\n",
       "  [21, 51, array([171, 167, 158], dtype=uint8)],\n",
       "  [21, 50, array([171, 167, 158], dtype=uint8)],\n",
       "  [21, 49, array([173, 170, 161], dtype=uint8)],\n",
       "  [21, 48, array([174, 171, 162], dtype=uint8)],\n",
       "  [21, 47, array([172, 168, 159], dtype=uint8)],\n",
       "  [21, 46, array([175, 171, 162], dtype=uint8)],\n",
       "  [21, 45, array([177, 173, 164], dtype=uint8)],\n",
       "  [21, 44, array([175, 171, 162], dtype=uint8)],\n",
       "  [20, 47, array([177, 173, 164], dtype=uint8)],\n",
       "  [20, 48, array([176, 172, 163], dtype=uint8)],\n",
       "  [20, 49, array([176, 173, 164], dtype=uint8)],\n",
       "  [20, 50, array([175, 172, 163], dtype=uint8)],\n",
       "  [20, 51, array([167, 164, 155], dtype=uint8)],\n",
       "  [20, 52, array([173, 169, 160], dtype=uint8)],\n",
       "  [20, 53, array([172, 169, 160], dtype=uint8)],\n",
       "  [19, 52, array([171, 168, 159], dtype=uint8)],\n",
       "  [19, 53, array([173, 170, 161], dtype=uint8)],\n",
       "  [19, 51, array([176, 173, 164], dtype=uint8)],\n",
       "  [19, 50, array([176, 173, 164], dtype=uint8)],\n",
       "  [19, 49, array([177, 173, 164], dtype=uint8)],\n",
       "  [19, 48, array([176, 172, 163], dtype=uint8)],\n",
       "  [19, 47, array([174, 170, 161], dtype=uint8)],\n",
       "  [18, 47, array([177, 173, 164], dtype=uint8)],\n",
       "  [18, 48, array([174, 170, 161], dtype=uint8)],\n",
       "  [17, 47, array([177, 173, 164], dtype=uint8)],\n",
       "  [17, 46, array([174, 170, 161], dtype=uint8)],\n",
       "  [18, 51, array([173, 170, 161], dtype=uint8)],\n",
       "  [18, 52, array([171, 168, 159], dtype=uint8)],\n",
       "  [18, 53, array([174, 171, 162], dtype=uint8)],\n",
       "  [17, 51, array([175, 172, 163], dtype=uint8)],\n",
       "  [17, 50, array([174, 171, 162], dtype=uint8)],\n",
       "  [16, 50, array([175, 172, 163], dtype=uint8)],\n",
       "  [16, 51, array([171, 168, 159], dtype=uint8)],\n",
       "  [16, 52, array([172, 169, 160], dtype=uint8)],\n",
       "  [16, 53, array([173, 170, 161], dtype=uint8)],\n",
       "  [15, 52, array([176, 173, 164], dtype=uint8)],\n",
       "  [15, 51, array([166, 162, 153], dtype=uint8)],\n",
       "  [14, 51, array([176, 173, 164], dtype=uint8)],\n",
       "  [16, 43, array([45, 46, 41], dtype=uint8)],\n",
       "  [15, 43, array([42, 42, 42], dtype=uint8)],\n",
       "  [14, 43, array([49, 48, 44], dtype=uint8)],\n",
       "  [14, 44, array([85, 86, 81], dtype=uint8)],\n",
       "  [13, 44, array([44, 45, 40], dtype=uint8)],\n",
       "  [13, 43, array([53, 52, 48], dtype=uint8)],\n",
       "  [12, 43, array([52, 51, 47], dtype=uint8)],\n",
       "  [12, 44, array([44, 43, 39], dtype=uint8)],\n",
       "  [11, 44, array([113, 110, 103], dtype=uint8)],\n",
       "  [11, 43, array([51, 50, 46], dtype=uint8)],\n",
       "  [10, 43, array([51, 50, 46], dtype=uint8)],\n",
       "  [9, 43, array([52, 51, 47], dtype=uint8)],\n",
       "  [9, 42, array([53, 52, 48], dtype=uint8)],\n",
       "  [8, 42, array([52, 53, 48], dtype=uint8)],\n",
       "  [8, 41, array([57, 58, 53], dtype=uint8)],\n",
       "  [7, 41, array([50, 51, 46], dtype=uint8)],\n",
       "  [7, 40, array([52, 53, 48], dtype=uint8)],\n",
       "  [7, 39, array([56, 57, 52], dtype=uint8)],\n",
       "  [7, 38, array([50, 51, 45], dtype=uint8)],\n",
       "  [8, 38, array([62, 62, 56], dtype=uint8)],\n",
       "  [8, 37, array([56, 57, 52], dtype=uint8)],\n",
       "  [8, 36, array([52, 51, 46], dtype=uint8)],\n",
       "  [9, 36, array([51, 51, 51], dtype=uint8)],\n",
       "  [9, 35, array([52, 52, 52], dtype=uint8)],\n",
       "  [10, 35, array([50, 50, 50], dtype=uint8)],\n",
       "  [10, 34, array([27, 24, 18], dtype=uint8)]]]"
      ]
     },
     "execution_count": 10,
     "metadata": {},
     "output_type": "execute_result"
    }
   ],
   "source": [
    "digit_list = horiz_bar_search(img_tensor, avg_rgb)\n",
    "digit_list"
   ]
  },
  {
   "cell_type": "code",
   "execution_count": 37,
   "metadata": {},
   "outputs": [
    {
     "name": "stderr",
     "output_type": "stream",
     "text": [
      "Clipping input data to the valid range for imshow with RGB data ([0..1] for floats or [0..255] for integers).\n"
     ]
    },
    {
     "name": "stdout",
     "output_type": "stream",
     "text": [
      "[16, 23, array([46, 47, 42], dtype=uint8)]\n",
      "[16, 24, array([49, 50, 45], dtype=uint8)]\n",
      "[16, 25, array([50, 51, 46], dtype=uint8)]\n",
      "[16, 26, array([50, 51, 46], dtype=uint8)]\n",
      "[16, 27, array([48, 49, 44], dtype=uint8)]\n",
      "[16, 28, array([62, 62, 54], dtype=uint8)]\n",
      "[16, 29, array([46, 47, 42], dtype=uint8)]\n",
      "[17, 27, array([61, 60, 55], dtype=uint8)]\n",
      "[17, 26, array([68, 68, 60], dtype=uint8)]\n",
      "[18, 26, array([127, 124, 117], dtype=uint8)]\n",
      "[18, 27, array([34, 33, 29], dtype=uint8)]\n",
      "[15, 27, array([24, 25, 20], dtype=uint8)]\n",
      "[15, 26, array([48, 49, 44], dtype=uint8)]\n",
      "[14, 26, array([45, 50, 44], dtype=uint8)]\n",
      "[13, 26, array([39, 43, 42], dtype=uint8)]\n",
      "[13, 25, array([40, 41, 35], dtype=uint8)]\n",
      "[16, 22, array([44, 49, 43], dtype=uint8)]\n"
     ]
    },
    {
     "data": {
      "text/plain": [
       "<matplotlib.image.AxesImage at 0x1afd4160410>"
      ]
     },
     "execution_count": 37,
     "metadata": {},
     "output_type": "execute_result"
    },
    {
     "data": {
      "image/png": "[encoded data removed]",
      "text/plain": [
       "<Figure size 640x480 with 1 Axes>"
      ]
     },
     "metadata": {},
     "output_type": "display_data"
    }
   ],
   "source": [
    "map = np.full_like(np.zeros([32, 32, 3], dtype=int),256)\n",
    "for x in digit_list[1]:\n",
    "    print(x)\n",
    "    map[x[0]][x[1]] = x[2]\n",
    "plt.imshow(map, interpolation='nearest')"
   ]
  },
  {
   "cell_type": "code",
   "execution_count": 39,
   "metadata": {},
   "outputs": [
    {
     "name": "stderr",
     "output_type": "stream",
     "text": [
      "Clipping input data to the valid range for imshow with RGB data ([0..1] for floats or [0..255] for integers).\n"
     ]
    },
    {
     "data": {
      "text/plain": [
       "<matplotlib.image.AxesImage at 0x1afd423b910>"
      ]
     },
     "execution_count": 39,
     "metadata": {},
     "output_type": "execute_result"
    },
    {
     "data": {
      "image/png": "[encoded data removed]",
      "text/plain": [
       "<Figure size 640x480 with 1 Axes>"
      ]
     },
     "metadata": {},
     "output_type": "display_data"
    }
   ],
   "source": [
    "def centered_map(breadth_list):\n",
    "    centered_elements = [np.full_like(np.zeros([32, 32, 3], dtype=int),256)]*len(breadth_list)\n",
    "    n = 0\n",
    "    for x in breadth_list:\n",
    "        x_values = [j[1] for j in x]\n",
    "        center_shift = 16 - int(np.median(np.array(x_values)))\n",
    "        for i in x:\n",
    "            centered_elements[n][i[0]][(i[1] + center_shift)] = i[2]\n",
    "        n += 1\n",
    "    return centered_elements\n",
    "\n",
    "centered_elements = centered_map(digit_list)\n",
    "plt.imshow(centered_elements[1], interpolation='nearest')"
   ]
  }
 ],
 "metadata": {
  "kernelspec": {
   "display_name": "Python 3",
   "language": "python",
   "name": "python3"
  },
  "language_info": {
   "codemirror_mode": {
    "name": "ipython",
    "version": 3
   },
   "file_extension": ".py",
   "mimetype": "text/x-python",
   "name": "python",
   "nbconvert_exporter": "python",
   "pygments_lexer": "ipython3",
   "version": "3.11.7"
  }
 },
 "nbformat": 4,
 "nbformat_minor": 2
}
