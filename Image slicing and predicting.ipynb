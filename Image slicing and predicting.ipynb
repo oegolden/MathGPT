{
 "cells": [
  {
   "cell_type": "code",
   "execution_count": 3,
   "metadata": {},
   "outputs": [
    {
     "name": "stdout",
     "output_type": "stream",
     "text": [
      "WARNING:tensorflow:From c:\\Users\\OGgol\\AppData\\Local\\Programs\\Python\\Python311\\Lib\\site-packages\\keras\\src\\losses.py:2976: The name tf.losses.sparse_softmax_cross_entropy is deprecated. Please use tf.compat.v1.losses.sparse_softmax_cross_entropy instead.\n",
      "\n"
     ]
    }
   ],
   "source": [
    "import torch \n",
    "from PIL import Image \n",
    "import torchvision.transforms as transforms \n",
    "from matplotlib import pyplot as plt\n",
    "import tensorflow as tf\n",
    "import numpy as np"
   ]
  },
  {
   "cell_type": "code",
   "execution_count": 4,
   "metadata": {},
   "outputs": [
    {
     "name": "stdout",
     "output_type": "stream",
     "text": [
      "(1852, 3180, 3) <dtype: 'uint8'>\n",
      "(1852, 3180, 3)\n",
      "(1852, 3180, 3)\n",
      "(32, 54, 3)\n"
     ]
    },
    {
     "data": {
      "text/plain": [
       "<matplotlib.image.AxesImage at 0x218d0582050>"
      ]
     },
     "execution_count": 4,
     "metadata": {},
     "output_type": "execute_result"
    },
    {
     "data": {
      "image/png": "[encoded data removed]",
      "text/plain": [
       "<Figure size 640x480 with 1 Axes>"
      ]
     },
     "metadata": {},
     "output_type": "display_data"
    }
   ],
   "source": [
    "image = tf.io.read_file('sample.jpg')\n",
    "img_tensor = tf.image.decode_png(image)\n",
    "print(img_tensor.shape, img_tensor.dtype)\n",
    "\n",
    "print(img_tensor.shape)\n",
    "plt.imshow(img_tensor.numpy(), interpolation='nearest')\n",
    "print(img_tensor.shape)\n",
    "ar_dfiner = img_tensor.shape[0]/32\n",
    "img_tensor = tf.image.resize(img_tensor, size = [32, int(img_tensor.shape[1]/ar_dfiner)], method= 'lanczos5')\n",
    "img_tensor = tf.cast(img_tensor, tf.uint8)\n",
    "print(img_tensor.shape)\n",
    "plt.imshow(img_tensor.numpy(), interpolation='nearest')"
   ]
  },
  {
   "cell_type": "code",
   "execution_count": 9,
   "metadata": {},
   "outputs": [
    {
     "data": {
      "text/plain": [
       "<tf.Tensor: shape=(54, 3), dtype=uint8, numpy=\n",
       "array([[195, 195, 185],\n",
       "       [194, 194, 184],\n",
       "       [192, 192, 182],\n",
       "       [182, 182, 172],\n",
       "       [189, 189, 179],\n",
       "       [194, 194, 184],\n",
       "       [189, 189, 179],\n",
       "       [193, 193, 183],\n",
       "       [191, 191, 181],\n",
       "       [181, 182, 171],\n",
       "       [198, 195, 186],\n",
       "       [195, 192, 183],\n",
       "       [193, 190, 181],\n",
       "       [195, 192, 183],\n",
       "       [ 54,  59,  53],\n",
       "       [ 48,  48,  40],\n",
       "       [193, 190, 181],\n",
       "       [195, 192, 183],\n",
       "       [194, 194, 184],\n",
       "       [191, 191, 181],\n",
       "       [191, 191, 181],\n",
       "       [192, 192, 182],\n",
       "       [191, 188, 179],\n",
       "       [192, 189, 180],\n",
       "       [184, 181, 172],\n",
       "       [189, 186, 177],\n",
       "       [186, 182, 173],\n",
       "       [182, 178, 169],\n",
       "       [189, 185, 176],\n",
       "       [184, 181, 172],\n",
       "       [189, 186, 177],\n",
       "       [187, 184, 175],\n",
       "       [182, 179, 170],\n",
       "       [188, 185, 176],\n",
       "       [ 27,  24,  18],\n",
       "       [ 50,  50,  50],\n",
       "       [186, 186, 176],\n",
       "       [186, 183, 174],\n",
       "       [185, 182, 173],\n",
       "       [188, 185, 176],\n",
       "       [191, 188, 179],\n",
       "       [191, 187, 178],\n",
       "       [189, 185, 176],\n",
       "       [ 51,  50,  46],\n",
       "       [187, 183, 174],\n",
       "       [176, 172, 163],\n",
       "       [187, 183, 174],\n",
       "       [190, 186, 177],\n",
       "       [179, 175, 166],\n",
       "       [185, 182, 173],\n",
       "       [186, 183, 174],\n",
       "       [178, 175, 166],\n",
       "       [185, 182, 173],\n",
       "       [182, 179, 170]], dtype=uint8)>"
      ]
     },
     "execution_count": 9,
     "metadata": {},
     "output_type": "execute_result"
    }
   ],
   "source": [
    "img_tensor[10]\n",
    "# This section of the tensor represents the first vertical column of  pixels, with their rbg values listed in 3 sections"
   ]
  },
  {
   "cell_type": "markdown",
   "metadata": {},
   "source": [
    "In order to seperate the digits I'll "
   ]
  }
 ],
 "metadata": {
  "kernelspec": {
   "display_name": "Python 3",
   "language": "python",
   "name": "python3"
  },
  "language_info": {
   "codemirror_mode": {
    "name": "ipython",
    "version": 3
   },
   "file_extension": ".py",
   "mimetype": "text/x-python",
   "name": "python",
   "nbconvert_exporter": "python",
   "pygments_lexer": "ipython3",
   "version": "3.11.7"
  }
 },
 "nbformat": 4,
 "nbformat_minor": 2
}
