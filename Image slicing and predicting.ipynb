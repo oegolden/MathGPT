{
 "cells": [
  {
   "cell_type": "code",
   "execution_count": 1,
   "metadata": {},
   "outputs": [
    {
     "name": "stdout",
     "output_type": "stream",
     "text": [
      "WARNING:tensorflow:From c:\\Users\\OGgol\\AppData\\Local\\Programs\\Python\\Python311\\Lib\\site-packages\\keras\\src\\losses.py:2976: The name tf.losses.sparse_softmax_cross_entropy is deprecated. Please use tf.compat.v1.losses.sparse_softmax_cross_entropy instead.\n",
      "\n"
     ]
    }
   ],
   "source": [
    "import torch \n",
    "from PIL import Image \n",
    "import torchvision.transforms as transforms \n",
    "from matplotlib import pyplot as plt\n",
    "import tensorflow as tf\n",
    "import numpy as np"
   ]
  },
  {
   "cell_type": "code",
   "execution_count": 2,
   "metadata": {},
   "outputs": [
    {
     "name": "stdout",
     "output_type": "stream",
     "text": [
      "(1852, 3180, 3) <dtype: 'uint8'>\n",
      "(1852, 3180, 3)\n",
      "(1852, 3180, 3)\n",
      "(32, 54, 3)\n"
     ]
    },
    {
     "data": {
      "text/plain": [
       "<matplotlib.image.AxesImage at 0x2159fa168d0>"
      ]
     },
     "execution_count": 2,
     "metadata": {},
     "output_type": "execute_result"
    },
    {
     "data": {
      "image/png": "[encoded data removed]",
      "text/plain": [
       "<Figure size 640x480 with 1 Axes>"
      ]
     },
     "metadata": {},
     "output_type": "display_data"
    }
   ],
   "source": [
    "image = tf.io.read_file('sample.jpg')\n",
    "img_tensor = tf.image.decode_png(image)\n",
    "print(img_tensor.shape, img_tensor.dtype)\n",
    "print(img_tensor.shape)\n",
    "plt.imshow(img_tensor.numpy(), interpolation='nearest')\n",
    "print(img_tensor.shape)\n",
    "ar_dfiner = img_tensor.shape[0]/32\n",
    "img_tensor = tf.image.resize(img_tensor, size = [32, int(img_tensor.shape[1]/ar_dfiner)], method= 'lanczos5')\n",
    "img_tensor = tf.cast(img_tensor, tf.uint8)\n",
    "print(img_tensor.shape)\n",
    "plt.imshow(img_tensor.numpy(), interpolation='nearest')"
   ]
  },
  {
   "cell_type": "code",
   "execution_count": 37,
   "metadata": {},
   "outputs": [
    {
     "data": {
      "text/plain": [
       "<tf.Tensor: shape=(3,), dtype=uint8, numpy=array([54, 53, 48], dtype=uint8)>"
      ]
     },
     "execution_count": 37,
     "metadata": {},
     "output_type": "execute_result"
    }
   ],
   "source": [
    "img_tensor[11][15]\n",
    "# This section of the tensor represents the first vertical column of  pixels, with their rbg values listed in 3 sections"
   ]
  },
  {
   "cell_type": "code",
   "execution_count": 4,
   "metadata": {},
   "outputs": [],
   "source": [
    "from operator import add\n",
    "def rbgAvg(tensor):\n",
    "    array = tensor.numpy()\n",
    "    sum = [0,0,0]\n",
    "    for x in array:\n",
    "        for y in x:\n",
    "            sum = list(map(add, y, sum))\n",
    "\n",
    "    return [int(x/(array.size/3)) for x in sum]"
   ]
  },
  {
   "cell_type": "code",
   "execution_count": 9,
   "metadata": {},
   "outputs": [],
   "source": [
    "avg_rgb = rbgAvg(img_tensor)"
   ]
  },
  {
   "cell_type": "markdown",
   "metadata": {},
   "source": [
    "Average RGB values in the image"
   ]
  },
  {
   "cell_type": "code",
   "execution_count": 52,
   "metadata": {},
   "outputs": [],
   "source": [
    "from operator import is_\n",
    "def breadth_pixel_search(x_start,y_start,tensor,pixel_list,avgrgb):\n",
    "    current_pixel = [y_start,x_start+1,np.array(tensor[y_start][x_start+1])]\n",
    "    pixel_exists = False\n",
    "    if np.sum(current_pixel[2]) < sum(avgrgb):\n",
    "        for x in pixel_list:\n",
    "            if x[0] == current_pixel[0 ] and x[1] == current_pixel[1]:\n",
    "                pixel_exists = True\n",
    "                break\n",
    "        if pixel_exists == False:\n",
    "            pixel_list.append((current_pixel))\n",
    "            breadth_pixel_search(x_start+1,y_start,tensor,pixel_list,avgrgb)\n",
    "    current_pixel = [y_start,x_start-1,np.array(tensor[y_start][x_start-1])]\n",
    "    pixel_exists = False\n",
    "    if np.sum(current_pixel[2]) < sum(avgrgb):\n",
    "        for x in pixel_list:\n",
    "            if x[0] == current_pixel[0 ] and x[1] == current_pixel[1]:\n",
    "                pixel_exists = True\n",
    "                break\n",
    "        if pixel_exists == False:\n",
    "            pixel_list.append((current_pixel))\n",
    "            breadth_pixel_search(x_start-1,y_start,tensor,pixel_list,avgrgb)\n",
    "    current_pixel = [y_start+1,x_start,np.array(tensor[y_start+1][x_start])]\n",
    "    pixel_exists = False\n",
    "    if np.sum(current_pixel[2]) < sum(avgrgb):\n",
    "        for x in pixel_list:\n",
    "            if x[0] == current_pixel[0 ] and x[1] == current_pixel[1]:\n",
    "                pixel_exists = True\n",
    "                break\n",
    "        if pixel_exists == False:\n",
    "            pixel_list.append((current_pixel))\n",
    "            breadth_pixel_search(x_start,y_start+1,tensor,pixel_list,avgrgb)\n",
    "    current_pixel = [y_start-1,x_start,np.array(tensor[y_start - 1][x_start])]\n",
    "    pixel_exists = False\n",
    "    if np.sum(current_pixel[2]) < sum(avgrgb):\n",
    "        for x in pixel_list:\n",
    "            if x[0] == current_pixel[0 ] and x[1] == current_pixel[1]:\n",
    "                pixel_exists = True\n",
    "                break\n",
    "        if pixel_exists == False:\n",
    "            pixel_list.append((current_pixel))\n",
    "            breadth_pixel_search(x_start,y_start - 1,tensor,pixel_list,avgrgb)\n",
    "    \n",
    "        "
   ]
  },
  {
   "cell_type": "code",
   "execution_count": 53,
   "metadata": {},
   "outputs": [
    {
     "data": {
      "text/plain": [
       "[[10, 14, array([54, 59, 53], dtype=uint8)],\n",
       " [10, 15, array([48, 48, 40], dtype=uint8)],\n",
       " [11, 15, array([54, 53, 48], dtype=uint8)],\n",
       " [11, 14, array([54, 58, 52], dtype=uint8)],\n",
       " [12, 14, array([55, 56, 51], dtype=uint8)],\n",
       " [12, 15, array([114, 115, 110], dtype=uint8)],\n",
       " [13, 14, array([56, 57, 52], dtype=uint8)],\n",
       " [14, 14, array([54, 59, 53], dtype=uint8)],\n",
       " [14, 13, array([67, 66, 55], dtype=uint8)],\n",
       " [15, 13, array([52, 57, 51], dtype=uint8)],\n",
       " [15, 14, array([56, 57, 52], dtype=uint8)],\n",
       " [16, 13, array([53, 58, 52], dtype=uint8)],\n",
       " [17, 13, array([46, 51, 45], dtype=uint8)],\n",
       " [17, 12, array([52, 57, 51], dtype=uint8)],\n",
       " [18, 12, array([55, 57, 52], dtype=uint8)],\n",
       " [18, 11, array([130, 130, 122], dtype=uint8)],\n",
       " [19, 11, array([53, 58, 52], dtype=uint8)],\n",
       " [20, 11, array([46, 51, 45], dtype=uint8)],\n",
       " [20, 10, array([50, 55, 49], dtype=uint8)],\n",
       " [21, 10, array([50, 54, 48], dtype=uint8)],\n",
       " [21, 9, array([56, 55, 50], dtype=uint8)],\n",
       " [22, 9, array([52, 58, 52], dtype=uint8)],\n",
       " [22, 8, array([64, 64, 56], dtype=uint8)],\n",
       " [23, 8, array([51, 54, 49], dtype=uint8)],\n",
       " [23, 9, array([53, 56, 50], dtype=uint8)],\n",
       " [23, 10, array([54, 55, 50], dtype=uint8)],\n",
       " [23, 11, array([56, 57, 52], dtype=uint8)],\n",
       " [23, 12, array([49, 54, 48], dtype=uint8)],\n",
       " [23, 13, array([49, 50, 45], dtype=uint8)],\n",
       " [24, 13, array([57, 58, 53], dtype=uint8)],\n",
       " [24, 14, array([53, 54, 49], dtype=uint8)],\n",
       " [24, 15, array([54, 55, 50], dtype=uint8)],\n",
       " [24, 16, array([51, 52, 47], dtype=uint8)],\n",
       " [24, 17, array([39, 40, 35], dtype=uint8)],\n",
       " [25, 17, array([60, 59, 54], dtype=uint8)],\n",
       " [25, 18, array([45, 50, 44], dtype=uint8)],\n",
       " [25, 16, array([58, 59, 53], dtype=uint8)],\n",
       " [24, 12, array([58, 59, 54], dtype=uint8)],\n",
       " [9, 14, array([54, 58, 57], dtype=uint8)],\n",
       " [8, 14, array([54, 58, 57], dtype=uint8)],\n",
       " [8, 13, array([53, 58, 52], dtype=uint8)],\n",
       " [7, 13, array([57, 62, 56], dtype=uint8)],\n",
       " [7, 12, array([126, 124, 119], dtype=uint8)],\n",
       " [6, 12, array([54, 59, 53], dtype=uint8)],\n",
       " [6, 11, array([51, 55, 54], dtype=uint8)],\n",
       " [6, 10, array([44, 49, 43], dtype=uint8)],\n",
       " [6, 9, array([50, 54, 53], dtype=uint8)],\n",
       " [6, 8, array([52, 56, 55], dtype=uint8)],\n",
       " [6, 7, array([47, 52, 45], dtype=uint8)],\n",
       " [7, 7, array([48, 49, 45], dtype=uint8)],\n",
       " [5, 9, array([126, 123, 114], dtype=uint8)],\n",
       " [5, 10, array([48, 52, 50], dtype=uint8)]]"
      ]
     },
     "execution_count": 53,
     "metadata": {},
     "output_type": "execute_result"
    }
   ],
   "source": [
    "pixel_list = []\n",
    "breadth_pixel_search(15,10,img_tensor,pixel_list,avg_rgb)\n",
    "pixel_list"
   ]
  },
  {
   "cell_type": "markdown",
   "metadata": {},
   "source": [
    "Will also need to be able to shift the x and y values of the pixels as to make them relational to each other on a 32 x 32 plot."
   ]
  },
  {
   "cell_type": "code",
   "execution_count": 61,
   "metadata": {},
   "outputs": [
    {
     "name": "stderr",
     "output_type": "stream",
     "text": [
      "Clipping input data to the valid range for imshow with RGB data ([0..1] for floats or [0..255] for integers).\n"
     ]
    },
    {
     "data": {
      "text/plain": [
       "<matplotlib.image.AxesImage at 0x215adc79350>"
      ]
     },
     "execution_count": 61,
     "metadata": {},
     "output_type": "execute_result"
    },
    {
     "data": {
      "image/png": "[encoded data removed]",
      "text/plain": [
       "<Figure size 640x480 with 1 Axes>"
      ]
     },
     "metadata": {},
     "output_type": "display_data"
    }
   ],
   "source": [
    "map = np.zeros([32, 32, 3], dtype=int)\n",
    "map = np.full_like(map, 256)\n",
    "for x in pixel_list:\n",
    "    map[x[0]][x[1]] = x[2]\n",
    "plt.imshow(map, interpolation='nearest')"
   ]
  }
 ],
 "metadata": {
  "kernelspec": {
   "display_name": "Python 3",
   "language": "python",
   "name": "python3"
  },
  "language_info": {
   "codemirror_mode": {
    "name": "ipython",
    "version": 3
   },
   "file_extension": ".py",
   "mimetype": "text/x-python",
   "name": "python",
   "nbconvert_exporter": "python",
   "pygments_lexer": "ipython3",
   "version": "3.11.7"
  }
 },
 "nbformat": 4,
 "nbformat_minor": 2
}
